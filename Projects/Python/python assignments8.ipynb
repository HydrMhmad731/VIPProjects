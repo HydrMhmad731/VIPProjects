{
  "nbformat": 4,
  "nbformat_minor": 0,
  "metadata": {
    "colab": {
      "provenance": []
    },
    "kernelspec": {
      "name": "python3",
      "display_name": "Python 3"
    },
    "language_info": {
      "name": "python"
    }
  },
  "cells": [
    {
      "cell_type": "code",
      "execution_count": null,
      "metadata": {
        "id": "reuE174hjEEz"
      },
      "outputs": [],
      "source": [
        "H = [1,4,'haydar', [5,7],'mhamad']\n",
        "H[4]= 'maria'\n",
        "print(H[4])"
      ]
    },
    {
      "cell_type": "code",
      "source": [
        "H = (1,4,'haydar', [5,7],'mhamad')\n",
        "print(H)"
      ],
      "metadata": {
        "colab": {
          "base_uri": "https://localhost:8080/"
        },
        "id": "XRobG8fkkST0",
        "outputId": "88fa2af1-c26d-4c9b-e011-0b95d09676d1"
      },
      "execution_count": null,
      "outputs": [
        {
          "output_type": "stream",
          "name": "stdout",
          "text": [
            "(1, 4, 'haydar', [5, 7], 'mhamad')\n"
          ]
        }
      ]
    },
    {
      "cell_type": "code",
      "source": [
        "\n",
        "def plus(*h):\n",
        "  m=0\n",
        "  for i in h:\n",
        "    m+=i\n",
        "  print(m)\n",
        "plus(2,6,9,8,7,6,5,3,1,2,5)\n",
        "plus(2,6,9,8,4,2,6,4)"
      ],
      "metadata": {
        "id": "Ek4vwmKRqGdz"
      },
      "execution_count": null,
      "outputs": []
    },
    {
      "cell_type": "code",
      "source": [
        "def pr(firstN,LastN)\n",
        "    print('hello '+ firstN +\"\"+ LastN)"
      ],
      "metadata": {
        "id": "LkEAdrOxqhOO"
      },
      "execution_count": null,
      "outputs": []
    },
    {
      "cell_type": "code",
      "source": [
        "def br(ln,mn,fn='Merry '):\n",
        "  print('hello and: '+ fn + mn +\" \"+ ln)"
      ],
      "metadata": {
        "id": "sp94YT1prTQJ"
      },
      "execution_count": null,
      "outputs": []
    },
    {
      "cell_type": "code",
      "source": [
        "br('haydar ','christmas 🎄🎄🎇✨ ')"
      ],
      "metadata": {
        "colab": {
          "base_uri": "https://localhost:8080/"
        },
        "id": "XPPtH3NgrWpK",
        "outputId": "7ef24646-023a-49a2-cbe4-51cbea32c2be"
      },
      "execution_count": null,
      "outputs": [
        {
          "output_type": "stream",
          "name": "stdout",
          "text": [
            "hello and: Merry christmas 🎄🎄🎇✨  haydar \n"
          ]
        }
      ]
    },
    {
      "cell_type": "code",
      "source": [
        "\n",
        "luno=[10121673,10121674,10121675,10121676]\n",
        "lduo=['haydar🧛‍♂️','ali🤶','alaa👦','kassem🧔']\n",
        "ltrio=['mhamad','baba','eddine','danach']\n",
        "lsquad=[['football⚽','drawing🖌'],['swimming🛶'],['reading📕'],['running🏃‍♂️']]\n",
        "def customerInfo(luno,lduo,ltrio,lsquad):\n",
        "  Customer={}\n",
        "  for i in range(len(luno)):\n",
        "    Customer[luno[i]]={\n",
        "                        'fname':lduo[i],'lname':ltrio[i],'hobbies':lsquad[i]}\n",
        "  return Customer\n",
        "customerInfo(luno,lduo,ltrio,lsquad)"
      ],
      "metadata": {
        "colab": {
          "base_uri": "https://localhost:8080/"
        },
        "id": "rSF6Ve8EtgOD",
        "outputId": "daae3f88-cd40-46d2-e7c2-59197e12808f"
      },
      "execution_count": null,
      "outputs": [
        {
          "output_type": "execute_result",
          "data": {
            "text/plain": [
              "{10121673: {'fname': 'haydar🧛\\u200d♂️',\n",
              "  'lname': 'mhamad',\n",
              "  'hobbies': ['football⚽', 'drawing🖌']},\n",
              " 10121674: {'fname': 'ali🤶', 'lname': 'baba', 'hobbies': ['swimming🛶']},\n",
              " 10121675: {'fname': 'alaa👦', 'lname': 'eddine', 'hobbies': ['reading📕']},\n",
              " 10121676: {'fname': 'kassem🧔',\n",
              "  'lname': 'danach',\n",
              "  'hobbies': ['running🏃\\u200d♂️']}}"
            ]
          },
          "metadata": {},
          "execution_count": 16
        }
      ]
    },
    {
      "cell_type": "code",
      "source": [
        "import random\n",
        "random.randint(1,10)"
      ],
      "metadata": {
        "id": "fCU0iGzdwEy8"
      },
      "execution_count": null,
      "outputs": []
    },
    {
      "cell_type": "code",
      "source": [
        "def factory(i):\n",
        "  if  i == 0 or i == 1:\n",
        "      return 1\n",
        "  elif i < 0 :\n",
        "      return \"Factorial is undefined for negative numbers\"\n",
        "  else:\n",
        "      factory = 1\n",
        "      for i in range(2, i + 1):\n",
        "          factory *= i\n",
        "      return factory\n",
        "number = int(input(\"please enter a number\"))\n",
        "result = factory(number)\n",
        "print(\"The factorial of the number entered is:\",result)"
      ],
      "metadata": {
        "colab": {
          "base_uri": "https://localhost:8080/"
        },
        "id": "T7AZgU1U2a2s",
        "outputId": "d2e7a4c6-ac73-46b5-dfc5-96a50e1b13d2"
      },
      "execution_count": null,
      "outputs": [
        {
          "output_type": "stream",
          "name": "stdout",
          "text": [
            "please enter a number1\n",
            "The factorial of the number entered is: 1\n"
          ]
        }
      ]
    },
    {
      "cell_type": "code",
      "source": [
        "i=0\n",
        "while i<=100:\n",
        "  i+=1\n",
        "  if i % 7 == 0:\n",
        "    continue\n",
        "  print(i)"
      ],
      "metadata": {
        "colab": {
          "base_uri": "https://localhost:8080/"
        },
        "id": "5yOI7owKwE-f",
        "outputId": "91413ef1-490b-4703-b27f-122c8f3f8937"
      },
      "execution_count": null,
      "outputs": [
        {
          "output_type": "stream",
          "name": "stdout",
          "text": [
            "1\n",
            "2\n",
            "3\n",
            "4\n",
            "5\n",
            "6\n",
            "8\n",
            "9\n",
            "10\n",
            "11\n",
            "12\n",
            "13\n",
            "15\n",
            "16\n",
            "17\n",
            "18\n",
            "19\n",
            "20\n",
            "22\n",
            "23\n",
            "24\n",
            "25\n",
            "26\n",
            "27\n",
            "29\n",
            "30\n",
            "31\n",
            "32\n",
            "33\n",
            "34\n",
            "36\n",
            "37\n",
            "38\n",
            "39\n",
            "40\n",
            "41\n",
            "43\n",
            "44\n",
            "45\n",
            "46\n",
            "47\n",
            "48\n",
            "50\n",
            "51\n",
            "52\n",
            "53\n",
            "54\n",
            "55\n",
            "57\n",
            "58\n",
            "59\n",
            "60\n",
            "61\n",
            "62\n",
            "64\n",
            "65\n",
            "66\n",
            "67\n",
            "68\n",
            "69\n",
            "71\n",
            "72\n",
            "73\n",
            "74\n",
            "75\n",
            "76\n",
            "78\n",
            "79\n",
            "80\n",
            "81\n",
            "82\n",
            "83\n",
            "85\n",
            "86\n",
            "87\n",
            "88\n",
            "89\n",
            "90\n",
            "92\n",
            "93\n",
            "94\n",
            "95\n",
            "96\n",
            "97\n",
            "99\n",
            "100\n",
            "101\n"
          ]
        }
      ]
    },
    {
      "cell_type": "code",
      "source": [
        "pr('john ','evans ')"
      ],
      "metadata": {
        "id": "VSIyYCHhqnz3"
      },
      "execution_count": null,
      "outputs": []
    }
  ]
}