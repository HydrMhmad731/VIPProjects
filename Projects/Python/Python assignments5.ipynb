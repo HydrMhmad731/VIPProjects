{
  "nbformat": 4,
  "nbformat_minor": 0,
  "metadata": {
    "colab": {
      "provenance": []
    },
    "kernelspec": {
      "name": "python3",
      "display_name": "Python 3"
    },
    "language_info": {
      "name": "python"
    }
  },
  "cells": [
    {
      "cell_type": "code",
      "execution_count": null,
      "metadata": {
        "colab": {
          "base_uri": "https://localhost:8080/",
          "height": 140
        },
        "id": "WCRPOXOUoQQo",
        "outputId": "5d9f2173-71c7-49e2-fb10-3888c652ec75"
      },
      "outputs": [
        {
          "output_type": "error",
          "ename": "SyntaxError",
          "evalue": "ignored",
          "traceback": [
            "\u001b[0;36m  File \u001b[0;32m\"<ipython-input-3-278374a67414>\"\u001b[0;36m, line \u001b[0;32m4\u001b[0m\n\u001b[0;31m    credit_limit = match gpa:\u001b[0m\n\u001b[0m                         ^\u001b[0m\n\u001b[0;31mSyntaxError\u001b[0m\u001b[0;31m:\u001b[0m invalid syntax\n"
          ]
        }
      ],
      "source": [
        "gpa = input(\"Please enter your GPA: \")\n",
        "gpa = float(gpa)\n",
        "\n",
        "credit_limit = match gpa:\n",
        "    case 0 <= gpa <= 2:\n",
        "        'You can register 12 credits as a maximum. You have to study more in this semester...'\n",
        "    case 2 < gpa <= 3:\n",
        "        'You can register 15 credits as a maximum'\n",
        "    case 3 < gpa <= 4:\n",
        "        'You can register 18 credits as a maximum'\n",
        "    case _:\n",
        "        'Invalid GPA'\n",
        "\n",
        "print(credit_limit)\n",
        "print('The end...')\n"
      ]
    },
    {
      "cell_type": "code",
      "source": [
        "gpa = input(\"Please enter your GPA: \")\n",
        "gpa = float(gpa)\n",
        "\n",
        "match gpa:\n",
        "    case 0 | 1 | 2:\n",
        "        print('You can register 12 credits as a maximum')\n",
        "        print('You have to study more in this semester...')\n",
        "    case 2 | 3:\n",
        "        print('You can register 15 credits as a maximum')\n",
        "    case 3 | 4:\n",
        "        print('You can register 18 credits as a maximum')\n",
        "    case _:\n",
        "        print('Invalid GPA')\n",
        "\n",
        "print('The end...')\n"
      ],
      "metadata": {
        "id": "mJkk0L4HW1Iy"
      },
      "execution_count": null,
      "outputs": []
    },
    {
      "cell_type": "code",
      "source": [
        "gpa = input(\"Please enter your GPA: \")\n",
        "gpa = float(gpa)\n",
        "\n",
        "credit_limits = {\n",
        "    (0, 2): 'You can register 12 credits as a maximum. You have to study more in this semester...',\n",
        "    (2, 3): 'You can register 15 credits as a maximum',\n",
        "    (3, 4): 'You can register 18 credits as a maximum'\n",
        "}\n",
        "\n",
        "credit_limit = next((limit for (min_limit, max_limit), limit in credit_limits.items() if min_limit <= gpa <= max_limit), 'Invalid GPA')\n",
        "\n",
        "print(credit_limit)\n",
        "print('The end...')\n"
      ],
      "metadata": {
        "colab": {
          "base_uri": "https://localhost:8080/"
        },
        "id": "9Msnd4tdo3W7",
        "outputId": "c09985e3-147b-4d92-8eb8-e19f1d0b46da"
      },
      "execution_count": null,
      "outputs": [
        {
          "output_type": "stream",
          "name": "stdout",
          "text": [
            "Please enter your GPA: 2\n",
            "You can register 12 credits as a maximum. You have to study more in this semester...\n",
            "The end...\n"
          ]
        }
      ]
    },
    {
      "cell_type": "code",
      "source": [
        "gpa = input(\"Please enter your GPA: \")\n",
        "gpa = float(gpa)\n",
        "\n",
        "match gpa:\n",
        "    case n gpa n = 2\n",
        "        print('You can register 12 credits as a maximum')\n",
        "        print('You have to study more in this semester...')\n",
        "    case 2 <= gpa <= 3:\n",
        "        print('You can register 15 credits as a maximum')\n",
        "    case _:\n",
        "        if 3 < gpa <= 4:\n",
        "            print('You can register 18 credits as a maximum')\n",
        "        else:\n",
        "            print('Invalid GPA')\n",
        "\n",
        "print('The end...')\n"
      ],
      "metadata": {
        "colab": {
          "base_uri": "https://localhost:8080/",
          "height": 140
        },
        "id": "6buRD5r_oVhW",
        "outputId": "0dd70052-aae7-465c-d72b-9af980f75779"
      },
      "execution_count": null,
      "outputs": [
        {
          "output_type": "error",
          "ename": "SyntaxError",
          "evalue": "ignored",
          "traceback": [
            "\u001b[0;36m  File \u001b[0;32m\"<ipython-input-2-0e3728778b0b>\"\u001b[0;36m, line \u001b[0;32m5\u001b[0m\n\u001b[0;31m    case n gpa n = 2\u001b[0m\n\u001b[0m           ^\u001b[0m\n\u001b[0;31mSyntaxError\u001b[0m\u001b[0;31m:\u001b[0m invalid syntax\n"
          ]
        }
      ]
    }
  ]
}